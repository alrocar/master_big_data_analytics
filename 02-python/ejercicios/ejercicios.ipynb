{
 "cells": [
  {
   "cell_type": "markdown",
   "metadata": {},
   "source": [
    "### Ejercicio 1\n",
    "1.Define una función max () que toma como argumentos dos números y devuelve el mayor de ellos. "
   ]
  },
  {
   "cell_type": "code",
   "execution_count": 5,
   "metadata": {
    "collapsed": false
   },
   "outputs": [
    {
     "data": {
      "text/plain": [
       "2"
      ]
     },
     "execution_count": 5,
     "metadata": {},
     "output_type": "execute_result"
    }
   ],
   "source": [
    "def maximo(a, b):\n",
    "    if a >= b:\n",
    "        return a\n",
    "    else:\n",
    "        return b\n",
    "\n",
    "maximo(1,2)"
   ]
  },
  {
   "cell_type": "markdown",
   "metadata": {},
   "source": [
    "### Ejercicio 2\n",
    "2.Escribe una función que toma un carácter (es decir, una cadena de longitud 1) y devuelve True si es una vocal, False en caso contrario"
   ]
  },
  {
   "cell_type": "code",
   "execution_count": 8,
   "metadata": {
    "collapsed": false
   },
   "outputs": [
    {
     "data": {
      "text/plain": [
       "True"
      ]
     },
     "execution_count": 8,
     "metadata": {},
     "output_type": "execute_result"
    }
   ],
   "source": [
    "def esVocal(str):\n",
    "    vocales = ['a','e','i','o','u']\n",
    "    for vocal in vocales:\n",
    "        if (str == vocal):\n",
    "            return True\n",
    "    return False\n",
    "\n",
    "esVocal('a')"
   ]
  },
  {
   "cell_type": "markdown",
   "metadata": {},
   "source": [
    "### Ejercicio 3\n",
    "3.Definir una función sum ()  que suma todos los números de una lista de números. Por ejemplo, suma ([1, 2, 3, 4]) debería devolver 10."
   ]
  },
  {
   "cell_type": "code",
   "execution_count": 9,
   "metadata": {
    "collapsed": false
   },
   "outputs": [
    {
     "data": {
      "text/plain": [
       "10"
      ]
     },
     "execution_count": 9,
     "metadata": {},
     "output_type": "execute_result"
    }
   ],
   "source": [
    "def sum(lista):\n",
    "    result = 0\n",
    "    for num in lista:\n",
    "        result += num\n",
    "    return result\n",
    "\n",
    "sum([1, 2, 3, 4])"
   ]
  },
  {
   "cell_type": "markdown",
   "metadata": {},
   "source": [
    "### Ejercicio 4\n",
    "4.Definir una función reverse () que retorna la inversión de una cadena. Por ejemplo, reverse (\"I am testing\") debería devolver la cadena \"gnitset ma I\"."
   ]
  },
  {
   "cell_type": "code",
   "execution_count": 16,
   "metadata": {
    "collapsed": false
   },
   "outputs": [
    {
     "data": {
      "text/plain": [
       "'ba'"
      ]
     },
     "execution_count": 16,
     "metadata": {},
     "output_type": "execute_result"
    }
   ],
   "source": [
    "def reverse(str):\n",
    "    result = ''\n",
    "    for l in range(len(str)):\n",
    "        result += str[len(str) - l - 1]\n",
    "    return result\n",
    "\n",
    "reverse('ab')"
   ]
  },
  {
   "cell_type": "markdown",
   "metadata": {},
   "source": [
    "### Ejercicio 5\n",
    "5.Un pangrama es una frase que contiene todas las letras del alfabeto Inglés, al menos una vez, por ejemplo: \"The quick brown fox jumps over the lazy dog\".  Escribe una función para comprobar si una sentencia para ver si es un pangrama o no."
   ]
  },
  {
   "cell_type": "code",
   "execution_count": 49,
   "metadata": {
    "collapsed": false
   },
   "outputs": [
    {
     "data": {
      "text/plain": [
       "True"
      ]
     },
     "execution_count": 49,
     "metadata": {},
     "output_type": "execute_result"
    }
   ],
   "source": [
    "def pangrama(str):\n",
    "    abc='abcdefghijklmnopqrstuvwxyz'\n",
    "    length=len(abc)\n",
    "    obj={}\n",
    "    for ch in str:\n",
    "        char = ch.lower()\n",
    "        if (not obj.has_key(char)):\n",
    "            obj[char] = True\n",
    "            length -= 1\n",
    "        if length <= 0:\n",
    "            return True\n",
    "    if length <= 0:\n",
    "        return True\n",
    "    else:\n",
    "        return False\n",
    "\n",
    "\n",
    "pangrama(\"The quick brown fox jumps over the lazy dog\")"
   ]
  },
  {
   "cell_type": "markdown",
   "metadata": {},
   "source": [
    "### Ejercicio 6\n",
    "6.Escribe una función char_freq() que toma una cadena y crea una lista de frecuencias de los carácteres que figuran en el mismo. Representa la frecuencia de carácteres con un diccionario Python. Prueba con algo como char_freq (\"abbabcbdbabdbdbabababcbcbab\")."
   ]
  },
  {
   "cell_type": "code",
   "execution_count": 26,
   "metadata": {
    "collapsed": false
   },
   "outputs": [
    {
     "data": {
      "text/plain": [
       "{'a': 7, 'b': 14, 'c': 3, 'd': 3}"
      ]
     },
     "execution_count": 26,
     "metadata": {},
     "output_type": "execute_result"
    }
   ],
   "source": [
    "def char_freq(str):\n",
    "    result = {}\n",
    "    for ch in str:\n",
    "        if (result.has_key(ch)):\n",
    "            result[ch] = result[ch] + 1\n",
    "        else:\n",
    "            result[ch] = 1\n",
    "            \n",
    "    return result\n",
    "\n",
    "char_freq (\"abbabcbdbabdbdbabababcbcbab\")"
   ]
  },
  {
   "cell_type": "markdown",
   "metadata": {},
   "source": [
    "### Ejercicio 7\n",
    "7.Escribe una función que Determine si una cadena formada por corchetes es equilibrada, es decir, si consiste enteramente de pares de apertura / cierre de corchetes (en ese orden), y todos los corchetes abiertos se cierran correctamente.\n",
    "   []        OK   ][        NOT OK\n",
    "   [][]      OK   ][][      NOT OK\n",
    "   [[][]]    OK   []][[]    NOT OK"
   ]
  },
  {
   "cell_type": "code",
   "execution_count": 35,
   "metadata": {
    "collapsed": false
   },
   "outputs": [
    {
     "data": {
      "text/plain": [
       "True"
      ]
     },
     "execution_count": 35,
     "metadata": {},
     "output_type": "execute_result"
    }
   ],
   "source": [
    "def corchetes(str):\n",
    "    stack=[]\n",
    "    for ch in str:\n",
    "        if (ch == '['):\n",
    "            stack.append('1')\n",
    "        elif (ch == ']'):\n",
    "            if len(stack) == 0:\n",
    "                return False\n",
    "            stack.pop()\n",
    "    if len(stack) == 0:\n",
    "        return True\n",
    "    else:\n",
    "        return False\n",
    "\n",
    "corchetes(\"[]        OK   ][\")\n",
    "corchetes(\"[[][]]    OK   []][[]\")"
   ]
  },
  {
   "cell_type": "markdown",
   "metadata": {},
   "source": [
    "### Ejercicio 8\n",
    "8.Realiza una función que descarge el libro \"ALICE'S ADVENTURES IN WONDERLAND\" de \"http://www.gutenberg.org/files/11/11.txt\" vuelque su contenido en un string, elimine caràcteres especiales ('\\r.,!:@#$?\\''), convierta letras mayúsculas a minúsculas, y muestre entonces las n palabras (pasado por parámetro) más comunes."
   ]
  },
  {
   "cell_type": "code",
   "execution_count": 87,
   "metadata": {
    "collapsed": false
   },
   "outputs": [
    {
     "data": {
      "text/plain": [
       "{'v': [82, 52, 47, 47, 32, 28, 28, 24, 24, 23],\n",
       " 'w': ['td', 'tr', 'en', 'lang', 'th', 'div', 'id', 'type', 'xml', 'class']}"
      ]
     },
     "execution_count": 87,
     "metadata": {},
     "output_type": "execute_result"
    }
   ],
   "source": [
    "import urllib2\n",
    "#from collections import OrderDict\n",
    "\n",
    "def common_words(n):\n",
    "    response = urllib2.urlopen('http://www.gutenberg.org/files/11/11.txt')\n",
    "    content = response.read()\n",
    "    #fich=open('book','w+')\n",
    "    #fich.write(content)\n",
    "    #fich.close()\n",
    "\n",
    "    characters = \"(\\'\\r.,!:@#$?\\'\\'\\n-<>=\\\"//)\"\n",
    "    for ch in characters:\n",
    "        content = content.replace(ch, \" \")\n",
    "    content = content.lower()\n",
    "    \n",
    "    words = content.split(' ')\n",
    "    commonWords = {}\n",
    "    for word in words:\n",
    "        if (len(word) == 0):\n",
    "            continue\n",
    "        if (not commonWords.has_key(word)):\n",
    "            commonWords[word] = 1\n",
    "        else:\n",
    "            commonWords[word] = commonWords[word] + 1\n",
    "    #sortedWords = OrderedDict(sorted(d.items(), \n",
    "     #                             key=lambda kv: kv[1]['key3'], reverse=True))\n",
    "    sortedWords = sorted(commonWords, key=lambda i: int(commonWords[i]), reverse=True)\n",
    "    sortedValues = sorted(commonWords.values(), reverse=True)\n",
    "    \n",
    "    result={}\n",
    "    result['w'] = sortedWords[0:n]\n",
    "    result['v'] = sortedValues[0:n]\n",
    "\n",
    "    return result\n",
    "\n",
    "\n",
    "common_words(10)\n",
    "        \n",
    "    "
   ]
  },
  {
   "cell_type": "code",
   "execution_count": null,
   "metadata": {
    "collapsed": true
   },
   "outputs": [],
   "source": []
  }
 ],
 "metadata": {
  "kernelspec": {
   "display_name": "Python 2",
   "language": "python",
   "name": "python2"
  },
  "language_info": {
   "codemirror_mode": {
    "name": "ipython",
    "version": 2
   },
   "file_extension": ".py",
   "mimetype": "text/x-python",
   "name": "python",
   "nbconvert_exporter": "python",
   "pygments_lexer": "ipython2",
   "version": "2.7.6"
  }
 },
 "nbformat": 4,
 "nbformat_minor": 1
}
